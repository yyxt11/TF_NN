{
 "cells": [
  {
   "cell_type": "code",
   "execution_count": 3,
   "metadata": {},
   "outputs": [],
   "source": [
    "from gensim.models import word2vec\n",
    "from gensim.models.keyedvectors import KeyedVectors\n",
    "from urllib.request import urlretrieve\n",
    "from os.path import isfile, isdir\n",
    "from tqdm import tqdm\n",
    "import zipfile"
   ]
  },
  {
   "cell_type": "code",
   "execution_count": 4,
   "metadata": {},
   "outputs": [
    {
     "name": "stderr",
     "output_type": "stream",
     "text": [
      "text8: 31.4MB [02:11, 239kB/s]                             \n"
     ]
    }
   ],
   "source": [
    "text8extractfile = './corpus/text8'\n",
    "text8zipfile = './corpus/text8.zip'\n",
    "downloadurl = 'http://mattmahoney.net/dc/text8.zip'\n",
    "\n",
    "class DLProgress(tqdm):\n",
    "    last_block = 0\n",
    "\n",
    "    def hook(self, block_num=1, block_size=1, total_size=None):\n",
    "        self.total = total_size\n",
    "        self.update((block_num - self.last_block) * block_size)\n",
    "        self.last_block = block_num\n",
    "\n",
    "if not isfile(text8zipfile):\n",
    "    with DLProgress(unit='B', unit_scale=True, miniters=1, desc='text8') as bar:\n",
    "        urlretrieve(downloadurl,text8zipfile,bar.hook)\n",
    "\n",
    "if not isfile(text8extractfile):\n",
    "    with zipfile.ZipFile(text8zipfile) as z:\n",
    "        z.extractall('./corpus')\n",
    "        z.close()"
   ]
  },
  {
   "cell_type": "code",
   "execution_count": null,
   "metadata": {},
   "outputs": [],
   "source": [
    "sentences = word2vec.Text8Corpus(text8extractfile)\n",
    "model = word2vec.Word2Vec(sentences,\n",
    "                          size = 200,\n",
    "                          min_count = 10,\n",
    "                          workers = 2)"
   ]
  },
  {
   "cell_type": "code",
   "execution_count": 4,
   "metadata": {
    "collapsed": true
   },
   "outputs": [],
   "source": [
    "model.wv.save_word2vec_format('./corpus/corpus_text8.bin',binary=True)\n",
    "model.wv.save_word2vec_format('./corpus/corpus_text8.txt',binary=False)"
   ]
  },
  {
   "cell_type": "code",
   "execution_count": null,
   "metadata": {
    "collapsed": true
   },
   "outputs": [],
   "source": []
  }
 ],
 "metadata": {
  "kernelspec": {
   "display_name": "Python 3",
   "language": "python",
   "name": "python3"
  },
  "language_info": {
   "codemirror_mode": {
    "name": "ipython",
    "version": 3
   },
   "file_extension": ".py",
   "mimetype": "text/x-python",
   "name": "python",
   "nbconvert_exporter": "python",
   "pygments_lexer": "ipython3",
   "version": "3.6.3"
  }
 },
 "nbformat": 4,
 "nbformat_minor": 2
}
