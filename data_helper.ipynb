{
 "cells": [
  {
   "cell_type": "markdown",
   "metadata": {},
   "source": [
    "\n",
    "__title__:data_helper,clean the original data\n",
    "\n",
    "__author__:@lzy\n",
    "\n",
    "__time__:2018.02.08\n",
    "\n",
    "# code is far away from bugs with the god animal protecting\n",
    "    I love animals. They taste delicious.\n",
    "              ┏┓      ┏┓\n",
    "            ┏┛┻━━━┛┻┓\n",
    "            ┃      ☃      ┃\n",
    "            ┃  ┳┛  ┗┳  ┃\n",
    "            ┃      ┻      ┃\n",
    "            ┗━┓      ┏━┛\n",
    "                ┃      ┗━━━┓\n",
    "                ┃  神兽保佑    ┣┓\n",
    "                ┃　永无BUG！   ┏┛\n",
    "                ┗┓┓┏━┳┓┏┛\n",
    "                  ┃┫┫  ┃┫┫\n",
    "                  ┗┻┛  ┗┻┛\n",
    "    "
   ]
  },
  {
   "cell_type": "code",
   "execution_count": 6,
   "metadata": {},
   "outputs": [],
   "source": [
    "import sys\n",
    "sys.path.append('../')\n",
    "from util.Worddivision import WordDiv"
   ]
  },
  {
   "cell_type": "code",
   "execution_count": 8,
   "metadata": {},
   "outputs": [],
   "source": [
    "def clean_str(string):\n",
    "    string = re.sub(r\"[^\\u4e00-\\u9fa5a-zA-Z0-9]\", \"  \", string)\n",
    "    \n",
    "    return string.strip()"
   ]
  },
  {
   "cell_type": "code",
   "execution_count": null,
   "metadata": {},
   "outputs": [],
   "source": [
    "def load_data_process(path=''):\n",
    "    for  \n",
    "    \n",
    "    \n",
    "    \n",
    "    \n",
    "    \n",
    "    \n",
    "    "
   ]
  }
 ],
 "metadata": {
  "kernelspec": {
   "display_name": "Python 3",
   "language": "python",
   "name": "python3"
  },
  "language_info": {
   "codemirror_mode": {
    "name": "ipython",
    "version": 3
   },
   "file_extension": ".py",
   "mimetype": "text/x-python",
   "name": "python",
   "nbconvert_exporter": "python",
   "pygments_lexer": "ipython3",
   "version": "3.6.3"
  }
 },
 "nbformat": 4,
 "nbformat_minor": 2
}
